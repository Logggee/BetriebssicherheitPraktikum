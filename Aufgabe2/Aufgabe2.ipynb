{
 "cells": [
  {
   "cell_type": "code",
   "execution_count": 1,
   "metadata": {},
   "outputs": [
    {
     "name": "stdout",
     "output_type": "stream",
     "text": [
      "SEQ: [Name: Eingang Zuverlässigkeit: 0.99, PAR: [Name: Rechner1 Zuverlässigkeit: 0.98, Name: Rechner2 Zuverlässigkeit: 0.97], Name: Ausgang Zuverlässigkeit: 0.96]\n"
     ]
    },
    {
     "data": {
      "text/plain": [
       "0.90345024"
      ]
     },
     "execution_count": 1,
     "metadata": {},
     "output_type": "execute_result"
    }
   ],
   "source": [
    "import math\n",
    "\n",
    "class BLOCK:\n",
    "    def __init__(self, name, reliability):\n",
    "        self.name = name\n",
    "        self.reliability = reliability\n",
    "\n",
    "    def __repr__(self):\n",
    "        return \"Name: \" + str(self.name) + \" Zuverlässigkeit: \" +str(self.reliability)\n",
    "\n",
    "    def printname(self):\n",
    "        print(self.name)\n",
    "        return\n",
    "\n",
    "    def getname(self):\n",
    "        return self.name\n",
    "    \n",
    "    def rel(self):\n",
    "        return self.reliability\n",
    "    \n",
    "class SEQBLOCK:\n",
    "    def __init__(self, name):\n",
    "        self.blocks = []\n",
    "        self.name = name\n",
    "\n",
    "    def __repr__(self):\n",
    "        return \"SEQ: \" + str(self.blocks)\n",
    "\n",
    "    def append(self, node):\n",
    "        self.blocks.append(node)\n",
    "        return\n",
    "    \n",
    "    def printname(self):\n",
    "        print(self.name)\n",
    "        return\n",
    "    \n",
    "    def getname(self):\n",
    "        return self.name\n",
    "    \n",
    "    def rel(self):\n",
    "        reliability = 1.0\n",
    "\n",
    "        for block in self.blocks:\n",
    "            reliability = reliability * block.rel()\n",
    "\n",
    "        return reliability\n",
    "    \n",
    "class PARBLOCK:\n",
    "    def __init__(self, name):\n",
    "        self.blocks = []\n",
    "        self.name = name\n",
    "\n",
    "    def __repr__(self):\n",
    "        return \"PAR: \" + str(self.blocks)\n",
    "\n",
    "    def append(self, node):\n",
    "        self.blocks.append(node)\n",
    "        return \n",
    "    \n",
    "    def printname(self):\n",
    "        print(self.name)\n",
    "        return\n",
    "    \n",
    "    def getname(self):\n",
    "        return self.name\n",
    "    \n",
    "    def rel(self):\n",
    "        reliability = 1.0\n",
    "\n",
    "        for block in self.blocks:\n",
    "            reliability = reliability * block.rel()\n",
    "\n",
    "        return reliability\n",
    "    \n",
    "E = BLOCK(\"Eingang\", 0.99)\n",
    "R1 = BLOCK(\"Rechner1\", 0.98)\n",
    "R2 = BLOCK(\"Rechner2\", 0.97)\n",
    "A = BLOCK(\"Ausgang\", 0.96)\n",
    "\n",
    "seq = SEQBLOCK(\"Alle\")\n",
    "par = PARBLOCK(\"Alle Rechner\")\n",
    "\n",
    "par.append(R1)\n",
    "par.append(R2)\n",
    "\n",
    "seq.append(E)\n",
    "seq.append(par)\n",
    "seq.append(A)\n",
    "\n",
    "print(seq)\n",
    "\n",
    "seq.rel()"
   ]
  }
 ],
 "metadata": {
  "kernelspec": {
   "display_name": "base",
   "language": "python",
   "name": "python3"
  },
  "language_info": {
   "codemirror_mode": {
    "name": "ipython",
    "version": 3
   },
   "file_extension": ".py",
   "mimetype": "text/x-python",
   "name": "python",
   "nbconvert_exporter": "python",
   "pygments_lexer": "ipython3",
   "version": "3.9.13"
  },
  "orig_nbformat": 4
 },
 "nbformat": 4,
 "nbformat_minor": 2
}
