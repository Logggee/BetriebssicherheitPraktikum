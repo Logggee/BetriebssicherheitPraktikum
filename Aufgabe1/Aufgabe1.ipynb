{
 "cells": [
  {
   "cell_type": "code",
   "execution_count": 1,
   "metadata": {},
   "outputs": [
    {
     "name": "stdout",
     "output_type": "stream",
     "text": [
      "Zusammensetzung TOP:  [[1, 2], [[3, 4], 5]]\n",
      "[[2, 5], [1, 5], [2, 3, 4], [1, 3, 4]]\n"
     ]
    },
    {
     "ename": "ExecutableNotFound",
     "evalue": "failed to execute PosixPath('dot'), make sure the Graphviz executables are on your systems' PATH",
     "output_type": "error",
     "traceback": [
      "\u001b[0;31m---------------------------------------------------------------------------\u001b[0m",
      "\u001b[0;31mFileNotFoundError\u001b[0m                         Traceback (most recent call last)",
      "\u001b[0;32m~/anaconda3/lib/python3.9/site-packages/graphviz/backend/execute.py\u001b[0m in \u001b[0;36mrun_check\u001b[0;34m(cmd, input_lines, encoding, quiet, **kwargs)\u001b[0m\n\u001b[1;32m     78\u001b[0m                 \u001b[0mkwargs\u001b[0m\u001b[0;34m[\u001b[0m\u001b[0;34m'stdout'\u001b[0m\u001b[0;34m]\u001b[0m \u001b[0;34m=\u001b[0m \u001b[0mkwargs\u001b[0m\u001b[0;34m[\u001b[0m\u001b[0;34m'stderr'\u001b[0m\u001b[0;34m]\u001b[0m \u001b[0;34m=\u001b[0m \u001b[0msubprocess\u001b[0m\u001b[0;34m.\u001b[0m\u001b[0mPIPE\u001b[0m\u001b[0;34m\u001b[0m\u001b[0;34m\u001b[0m\u001b[0m\n\u001b[0;32m---> 79\u001b[0;31m             \u001b[0mproc\u001b[0m \u001b[0;34m=\u001b[0m \u001b[0m_run_input_lines\u001b[0m\u001b[0;34m(\u001b[0m\u001b[0mcmd\u001b[0m\u001b[0;34m,\u001b[0m \u001b[0minput_lines\u001b[0m\u001b[0;34m,\u001b[0m \u001b[0mkwargs\u001b[0m\u001b[0;34m=\u001b[0m\u001b[0mkwargs\u001b[0m\u001b[0;34m)\u001b[0m\u001b[0;34m\u001b[0m\u001b[0;34m\u001b[0m\u001b[0m\n\u001b[0m\u001b[1;32m     80\u001b[0m         \u001b[0;32melse\u001b[0m\u001b[0;34m:\u001b[0m\u001b[0;34m\u001b[0m\u001b[0;34m\u001b[0m\u001b[0m\n",
      "\u001b[0;32m~/anaconda3/lib/python3.9/site-packages/graphviz/backend/execute.py\u001b[0m in \u001b[0;36m_run_input_lines\u001b[0;34m(cmd, input_lines, kwargs)\u001b[0m\n\u001b[1;32m     98\u001b[0m \u001b[0;32mdef\u001b[0m \u001b[0m_run_input_lines\u001b[0m\u001b[0;34m(\u001b[0m\u001b[0mcmd\u001b[0m\u001b[0;34m,\u001b[0m \u001b[0minput_lines\u001b[0m\u001b[0;34m,\u001b[0m \u001b[0;34m*\u001b[0m\u001b[0;34m,\u001b[0m \u001b[0mkwargs\u001b[0m\u001b[0;34m)\u001b[0m\u001b[0;34m:\u001b[0m\u001b[0;34m\u001b[0m\u001b[0;34m\u001b[0m\u001b[0m\n\u001b[0;32m---> 99\u001b[0;31m     \u001b[0mpopen\u001b[0m \u001b[0;34m=\u001b[0m \u001b[0msubprocess\u001b[0m\u001b[0;34m.\u001b[0m\u001b[0mPopen\u001b[0m\u001b[0;34m(\u001b[0m\u001b[0mcmd\u001b[0m\u001b[0;34m,\u001b[0m \u001b[0mstdin\u001b[0m\u001b[0;34m=\u001b[0m\u001b[0msubprocess\u001b[0m\u001b[0;34m.\u001b[0m\u001b[0mPIPE\u001b[0m\u001b[0;34m,\u001b[0m \u001b[0;34m**\u001b[0m\u001b[0mkwargs\u001b[0m\u001b[0;34m)\u001b[0m\u001b[0;34m\u001b[0m\u001b[0;34m\u001b[0m\u001b[0m\n\u001b[0m\u001b[1;32m    100\u001b[0m \u001b[0;34m\u001b[0m\u001b[0m\n",
      "\u001b[0;32m~/anaconda3/lib/python3.9/subprocess.py\u001b[0m in \u001b[0;36m__init__\u001b[0;34m(self, args, bufsize, executable, stdin, stdout, stderr, preexec_fn, close_fds, shell, cwd, env, universal_newlines, startupinfo, creationflags, restore_signals, start_new_session, pass_fds, user, group, extra_groups, encoding, errors, text, umask)\u001b[0m\n\u001b[1;32m    950\u001b[0m \u001b[0;34m\u001b[0m\u001b[0m\n\u001b[0;32m--> 951\u001b[0;31m             self._execute_child(args, executable, preexec_fn, close_fds,\n\u001b[0m\u001b[1;32m    952\u001b[0m                                 \u001b[0mpass_fds\u001b[0m\u001b[0;34m,\u001b[0m \u001b[0mcwd\u001b[0m\u001b[0;34m,\u001b[0m \u001b[0menv\u001b[0m\u001b[0;34m,\u001b[0m\u001b[0;34m\u001b[0m\u001b[0;34m\u001b[0m\u001b[0m\n",
      "\u001b[0;32m~/anaconda3/lib/python3.9/subprocess.py\u001b[0m in \u001b[0;36m_execute_child\u001b[0;34m(self, args, executable, preexec_fn, close_fds, pass_fds, cwd, env, startupinfo, creationflags, shell, p2cread, p2cwrite, c2pread, c2pwrite, errread, errwrite, restore_signals, gid, gids, uid, umask, start_new_session)\u001b[0m\n\u001b[1;32m   1820\u001b[0m                         \u001b[0merr_msg\u001b[0m \u001b[0;34m=\u001b[0m \u001b[0mos\u001b[0m\u001b[0;34m.\u001b[0m\u001b[0mstrerror\u001b[0m\u001b[0;34m(\u001b[0m\u001b[0merrno_num\u001b[0m\u001b[0;34m)\u001b[0m\u001b[0;34m\u001b[0m\u001b[0;34m\u001b[0m\u001b[0m\n\u001b[0;32m-> 1821\u001b[0;31m                     \u001b[0;32mraise\u001b[0m \u001b[0mchild_exception_type\u001b[0m\u001b[0;34m(\u001b[0m\u001b[0merrno_num\u001b[0m\u001b[0;34m,\u001b[0m \u001b[0merr_msg\u001b[0m\u001b[0;34m,\u001b[0m \u001b[0merr_filename\u001b[0m\u001b[0;34m)\u001b[0m\u001b[0;34m\u001b[0m\u001b[0;34m\u001b[0m\u001b[0m\n\u001b[0m\u001b[1;32m   1822\u001b[0m                 \u001b[0;32mraise\u001b[0m \u001b[0mchild_exception_type\u001b[0m\u001b[0;34m(\u001b[0m\u001b[0merr_msg\u001b[0m\u001b[0;34m)\u001b[0m\u001b[0;34m\u001b[0m\u001b[0;34m\u001b[0m\u001b[0m\n",
      "\u001b[0;31mFileNotFoundError\u001b[0m: [Errno 2] No such file or directory: PosixPath('dot')",
      "\nThe above exception was the direct cause of the following exception:\n",
      "\u001b[0;31mExecutableNotFound\u001b[0m                        Traceback (most recent call last)",
      "\u001b[0;32m~/anaconda3/lib/python3.9/site-packages/IPython/core/formatters.py\u001b[0m in \u001b[0;36m__call__\u001b[0;34m(self, obj, include, exclude)\u001b[0m\n\u001b[1;32m    968\u001b[0m \u001b[0;34m\u001b[0m\u001b[0m\n\u001b[1;32m    969\u001b[0m             \u001b[0;32mif\u001b[0m \u001b[0mmethod\u001b[0m \u001b[0;32mis\u001b[0m \u001b[0;32mnot\u001b[0m \u001b[0;32mNone\u001b[0m\u001b[0;34m:\u001b[0m\u001b[0;34m\u001b[0m\u001b[0;34m\u001b[0m\u001b[0m\n\u001b[0;32m--> 970\u001b[0;31m                 \u001b[0;32mreturn\u001b[0m \u001b[0mmethod\u001b[0m\u001b[0;34m(\u001b[0m\u001b[0minclude\u001b[0m\u001b[0;34m=\u001b[0m\u001b[0minclude\u001b[0m\u001b[0;34m,\u001b[0m \u001b[0mexclude\u001b[0m\u001b[0;34m=\u001b[0m\u001b[0mexclude\u001b[0m\u001b[0;34m)\u001b[0m\u001b[0;34m\u001b[0m\u001b[0;34m\u001b[0m\u001b[0m\n\u001b[0m\u001b[1;32m    971\u001b[0m             \u001b[0;32mreturn\u001b[0m \u001b[0;32mNone\u001b[0m\u001b[0;34m\u001b[0m\u001b[0;34m\u001b[0m\u001b[0m\n\u001b[1;32m    972\u001b[0m         \u001b[0;32melse\u001b[0m\u001b[0;34m:\u001b[0m\u001b[0;34m\u001b[0m\u001b[0;34m\u001b[0m\u001b[0m\n",
      "\u001b[0;32m~/anaconda3/lib/python3.9/site-packages/graphviz/jupyter_integration.py\u001b[0m in \u001b[0;36m_repr_mimebundle_\u001b[0;34m(self, include, exclude, **_)\u001b[0m\n\u001b[1;32m     96\u001b[0m         \u001b[0minclude\u001b[0m \u001b[0;34m=\u001b[0m \u001b[0mset\u001b[0m\u001b[0;34m(\u001b[0m\u001b[0minclude\u001b[0m\u001b[0;34m)\u001b[0m \u001b[0;32mif\u001b[0m \u001b[0minclude\u001b[0m \u001b[0;32mis\u001b[0m \u001b[0;32mnot\u001b[0m \u001b[0;32mNone\u001b[0m \u001b[0;32melse\u001b[0m \u001b[0;34m{\u001b[0m\u001b[0mself\u001b[0m\u001b[0;34m.\u001b[0m\u001b[0m_jupyter_mimetype\u001b[0m\u001b[0;34m}\u001b[0m\u001b[0;34m\u001b[0m\u001b[0;34m\u001b[0m\u001b[0m\n\u001b[1;32m     97\u001b[0m         \u001b[0minclude\u001b[0m \u001b[0;34m-=\u001b[0m \u001b[0mset\u001b[0m\u001b[0;34m(\u001b[0m\u001b[0mexclude\u001b[0m \u001b[0;32mor\u001b[0m \u001b[0;34m[\u001b[0m\u001b[0;34m]\u001b[0m\u001b[0;34m)\u001b[0m\u001b[0;34m\u001b[0m\u001b[0;34m\u001b[0m\u001b[0m\n\u001b[0;32m---> 98\u001b[0;31m         return {mimetype: getattr(self, method_name)()\n\u001b[0m\u001b[1;32m     99\u001b[0m                 \u001b[0;32mfor\u001b[0m \u001b[0mmimetype\u001b[0m\u001b[0;34m,\u001b[0m \u001b[0mmethod_name\u001b[0m \u001b[0;32min\u001b[0m \u001b[0mMIME_TYPES\u001b[0m\u001b[0;34m.\u001b[0m\u001b[0mitems\u001b[0m\u001b[0;34m(\u001b[0m\u001b[0;34m)\u001b[0m\u001b[0;34m\u001b[0m\u001b[0;34m\u001b[0m\u001b[0m\n\u001b[1;32m    100\u001b[0m                 if mimetype in include}\n",
      "\u001b[0;32m~/anaconda3/lib/python3.9/site-packages/graphviz/jupyter_integration.py\u001b[0m in \u001b[0;36m<dictcomp>\u001b[0;34m(.0)\u001b[0m\n\u001b[1;32m     96\u001b[0m         \u001b[0minclude\u001b[0m \u001b[0;34m=\u001b[0m \u001b[0mset\u001b[0m\u001b[0;34m(\u001b[0m\u001b[0minclude\u001b[0m\u001b[0;34m)\u001b[0m \u001b[0;32mif\u001b[0m \u001b[0minclude\u001b[0m \u001b[0;32mis\u001b[0m \u001b[0;32mnot\u001b[0m \u001b[0;32mNone\u001b[0m \u001b[0;32melse\u001b[0m \u001b[0;34m{\u001b[0m\u001b[0mself\u001b[0m\u001b[0;34m.\u001b[0m\u001b[0m_jupyter_mimetype\u001b[0m\u001b[0;34m}\u001b[0m\u001b[0;34m\u001b[0m\u001b[0;34m\u001b[0m\u001b[0m\n\u001b[1;32m     97\u001b[0m         \u001b[0minclude\u001b[0m \u001b[0;34m-=\u001b[0m \u001b[0mset\u001b[0m\u001b[0;34m(\u001b[0m\u001b[0mexclude\u001b[0m \u001b[0;32mor\u001b[0m \u001b[0;34m[\u001b[0m\u001b[0;34m]\u001b[0m\u001b[0;34m)\u001b[0m\u001b[0;34m\u001b[0m\u001b[0;34m\u001b[0m\u001b[0m\n\u001b[0;32m---> 98\u001b[0;31m         return {mimetype: getattr(self, method_name)()\n\u001b[0m\u001b[1;32m     99\u001b[0m                 \u001b[0;32mfor\u001b[0m \u001b[0mmimetype\u001b[0m\u001b[0;34m,\u001b[0m \u001b[0mmethod_name\u001b[0m \u001b[0;32min\u001b[0m \u001b[0mMIME_TYPES\u001b[0m\u001b[0;34m.\u001b[0m\u001b[0mitems\u001b[0m\u001b[0;34m(\u001b[0m\u001b[0;34m)\u001b[0m\u001b[0;34m\u001b[0m\u001b[0;34m\u001b[0m\u001b[0m\n\u001b[1;32m    100\u001b[0m                 if mimetype in include}\n",
      "\u001b[0;32m~/anaconda3/lib/python3.9/site-packages/graphviz/jupyter_integration.py\u001b[0m in \u001b[0;36m_repr_image_svg_xml\u001b[0;34m(self)\u001b[0m\n\u001b[1;32m    110\u001b[0m     \u001b[0;32mdef\u001b[0m \u001b[0m_repr_image_svg_xml\u001b[0m\u001b[0;34m(\u001b[0m\u001b[0mself\u001b[0m\u001b[0;34m)\u001b[0m \u001b[0;34m->\u001b[0m \u001b[0mstr\u001b[0m\u001b[0;34m:\u001b[0m\u001b[0;34m\u001b[0m\u001b[0;34m\u001b[0m\u001b[0m\n\u001b[1;32m    111\u001b[0m         \u001b[0;34m\"\"\"Return the rendered graph as SVG string.\"\"\"\u001b[0m\u001b[0;34m\u001b[0m\u001b[0;34m\u001b[0m\u001b[0m\n\u001b[0;32m--> 112\u001b[0;31m         \u001b[0;32mreturn\u001b[0m \u001b[0mself\u001b[0m\u001b[0;34m.\u001b[0m\u001b[0mpipe\u001b[0m\u001b[0;34m(\u001b[0m\u001b[0mformat\u001b[0m\u001b[0;34m=\u001b[0m\u001b[0;34m'svg'\u001b[0m\u001b[0;34m,\u001b[0m \u001b[0mencoding\u001b[0m\u001b[0;34m=\u001b[0m\u001b[0mSVG_ENCODING\u001b[0m\u001b[0;34m)\u001b[0m\u001b[0;34m\u001b[0m\u001b[0;34m\u001b[0m\u001b[0m\n\u001b[0m",
      "\u001b[0;32m~/anaconda3/lib/python3.9/site-packages/graphviz/piping.py\u001b[0m in \u001b[0;36mpipe\u001b[0;34m(self, format, renderer, formatter, neato_no_op, quiet, engine, encoding)\u001b[0m\n\u001b[1;32m    102\u001b[0m             \u001b[0;34m'<?xml version='\u001b[0m\u001b[0;34m\u001b[0m\u001b[0;34m\u001b[0m\u001b[0m\n\u001b[1;32m    103\u001b[0m         \"\"\"\n\u001b[0;32m--> 104\u001b[0;31m         return self._pipe_legacy(format,\n\u001b[0m\u001b[1;32m    105\u001b[0m                                  \u001b[0mrenderer\u001b[0m\u001b[0;34m=\u001b[0m\u001b[0mrenderer\u001b[0m\u001b[0;34m,\u001b[0m\u001b[0;34m\u001b[0m\u001b[0;34m\u001b[0m\u001b[0m\n\u001b[1;32m    106\u001b[0m                                  \u001b[0mformatter\u001b[0m\u001b[0;34m=\u001b[0m\u001b[0mformatter\u001b[0m\u001b[0;34m,\u001b[0m\u001b[0;34m\u001b[0m\u001b[0;34m\u001b[0m\u001b[0m\n",
      "\u001b[0;32m~/anaconda3/lib/python3.9/site-packages/graphviz/_tools.py\u001b[0m in \u001b[0;36mwrapper\u001b[0;34m(*args, **kwargs)\u001b[0m\n\u001b[1;32m    169\u001b[0m                               category=category)\n\u001b[1;32m    170\u001b[0m \u001b[0;34m\u001b[0m\u001b[0m\n\u001b[0;32m--> 171\u001b[0;31m             \u001b[0;32mreturn\u001b[0m \u001b[0mfunc\u001b[0m\u001b[0;34m(\u001b[0m\u001b[0;34m*\u001b[0m\u001b[0margs\u001b[0m\u001b[0;34m,\u001b[0m \u001b[0;34m**\u001b[0m\u001b[0mkwargs\u001b[0m\u001b[0;34m)\u001b[0m\u001b[0;34m\u001b[0m\u001b[0;34m\u001b[0m\u001b[0m\n\u001b[0m\u001b[1;32m    172\u001b[0m \u001b[0;34m\u001b[0m\u001b[0m\n\u001b[1;32m    173\u001b[0m         \u001b[0;32mreturn\u001b[0m \u001b[0mwrapper\u001b[0m\u001b[0;34m\u001b[0m\u001b[0;34m\u001b[0m\u001b[0m\n",
      "\u001b[0;32m~/anaconda3/lib/python3.9/site-packages/graphviz/piping.py\u001b[0m in \u001b[0;36m_pipe_legacy\u001b[0;34m(self, format, renderer, formatter, neato_no_op, quiet, engine, encoding)\u001b[0m\n\u001b[1;32m    119\u001b[0m                      \u001b[0mengine\u001b[0m\u001b[0;34m:\u001b[0m \u001b[0mtyping\u001b[0m\u001b[0;34m.\u001b[0m\u001b[0mOptional\u001b[0m\u001b[0;34m[\u001b[0m\u001b[0mstr\u001b[0m\u001b[0;34m]\u001b[0m \u001b[0;34m=\u001b[0m \u001b[0;32mNone\u001b[0m\u001b[0;34m,\u001b[0m\u001b[0;34m\u001b[0m\u001b[0;34m\u001b[0m\u001b[0m\n\u001b[1;32m    120\u001b[0m                      encoding: typing.Optional[str] = None) -> typing.Union[bytes, str]:\n\u001b[0;32m--> 121\u001b[0;31m         return self._pipe_future(format,\n\u001b[0m\u001b[1;32m    122\u001b[0m                                  \u001b[0mrenderer\u001b[0m\u001b[0;34m=\u001b[0m\u001b[0mrenderer\u001b[0m\u001b[0;34m,\u001b[0m\u001b[0;34m\u001b[0m\u001b[0;34m\u001b[0m\u001b[0m\n\u001b[1;32m    123\u001b[0m                                  \u001b[0mformatter\u001b[0m\u001b[0;34m=\u001b[0m\u001b[0mformatter\u001b[0m\u001b[0;34m,\u001b[0m\u001b[0;34m\u001b[0m\u001b[0;34m\u001b[0m\u001b[0m\n",
      "\u001b[0;32m~/anaconda3/lib/python3.9/site-packages/graphviz/piping.py\u001b[0m in \u001b[0;36m_pipe_future\u001b[0;34m(self, format, renderer, formatter, neato_no_op, quiet, engine, encoding)\u001b[0m\n\u001b[1;32m    147\u001b[0m             \u001b[0;32mif\u001b[0m \u001b[0mcodecs\u001b[0m\u001b[0;34m.\u001b[0m\u001b[0mlookup\u001b[0m\u001b[0;34m(\u001b[0m\u001b[0mencoding\u001b[0m\u001b[0;34m)\u001b[0m \u001b[0;32mis\u001b[0m \u001b[0mcodecs\u001b[0m\u001b[0;34m.\u001b[0m\u001b[0mlookup\u001b[0m\u001b[0;34m(\u001b[0m\u001b[0mself\u001b[0m\u001b[0;34m.\u001b[0m\u001b[0mencoding\u001b[0m\u001b[0;34m)\u001b[0m\u001b[0;34m:\u001b[0m\u001b[0;34m\u001b[0m\u001b[0;34m\u001b[0m\u001b[0m\n\u001b[1;32m    148\u001b[0m                 \u001b[0;31m# common case: both stdin and stdout need the same encoding\u001b[0m\u001b[0;34m\u001b[0m\u001b[0;34m\u001b[0m\u001b[0m\n\u001b[0;32m--> 149\u001b[0;31m                 \u001b[0;32mreturn\u001b[0m \u001b[0mself\u001b[0m\u001b[0;34m.\u001b[0m\u001b[0m_pipe_lines_string\u001b[0m\u001b[0;34m(\u001b[0m\u001b[0;34m*\u001b[0m\u001b[0margs\u001b[0m\u001b[0;34m,\u001b[0m \u001b[0mencoding\u001b[0m\u001b[0;34m=\u001b[0m\u001b[0mencoding\u001b[0m\u001b[0;34m,\u001b[0m \u001b[0;34m**\u001b[0m\u001b[0mkwargs\u001b[0m\u001b[0;34m)\u001b[0m\u001b[0;34m\u001b[0m\u001b[0;34m\u001b[0m\u001b[0m\n\u001b[0m\u001b[1;32m    150\u001b[0m             \u001b[0;32mtry\u001b[0m\u001b[0;34m:\u001b[0m\u001b[0;34m\u001b[0m\u001b[0;34m\u001b[0m\u001b[0m\n\u001b[1;32m    151\u001b[0m                 \u001b[0mraw\u001b[0m \u001b[0;34m=\u001b[0m \u001b[0mself\u001b[0m\u001b[0;34m.\u001b[0m\u001b[0m_pipe_lines\u001b[0m\u001b[0;34m(\u001b[0m\u001b[0;34m*\u001b[0m\u001b[0margs\u001b[0m\u001b[0;34m,\u001b[0m \u001b[0minput_encoding\u001b[0m\u001b[0;34m=\u001b[0m\u001b[0mself\u001b[0m\u001b[0;34m.\u001b[0m\u001b[0mencoding\u001b[0m\u001b[0;34m,\u001b[0m \u001b[0;34m**\u001b[0m\u001b[0mkwargs\u001b[0m\u001b[0;34m)\u001b[0m\u001b[0;34m\u001b[0m\u001b[0;34m\u001b[0m\u001b[0m\n",
      "\u001b[0;32m~/anaconda3/lib/python3.9/site-packages/graphviz/backend/piping.py\u001b[0m in \u001b[0;36mpipe_lines_string\u001b[0;34m(engine, format, input_lines, encoding, renderer, formatter, neato_no_op, quiet)\u001b[0m\n\u001b[1;32m    210\u001b[0m     \u001b[0mkwargs\u001b[0m \u001b[0;34m=\u001b[0m \u001b[0;34m{\u001b[0m\u001b[0;34m'input_lines'\u001b[0m\u001b[0;34m:\u001b[0m \u001b[0minput_lines\u001b[0m\u001b[0;34m,\u001b[0m \u001b[0;34m'encoding'\u001b[0m\u001b[0;34m:\u001b[0m \u001b[0mencoding\u001b[0m\u001b[0;34m}\u001b[0m\u001b[0;34m\u001b[0m\u001b[0;34m\u001b[0m\u001b[0m\n\u001b[1;32m    211\u001b[0m \u001b[0;34m\u001b[0m\u001b[0m\n\u001b[0;32m--> 212\u001b[0;31m     \u001b[0mproc\u001b[0m \u001b[0;34m=\u001b[0m \u001b[0mexecute\u001b[0m\u001b[0;34m.\u001b[0m\u001b[0mrun_check\u001b[0m\u001b[0;34m(\u001b[0m\u001b[0mcmd\u001b[0m\u001b[0;34m,\u001b[0m \u001b[0mcapture_output\u001b[0m\u001b[0;34m=\u001b[0m\u001b[0;32mTrue\u001b[0m\u001b[0;34m,\u001b[0m \u001b[0mquiet\u001b[0m\u001b[0;34m=\u001b[0m\u001b[0mquiet\u001b[0m\u001b[0;34m,\u001b[0m \u001b[0;34m**\u001b[0m\u001b[0mkwargs\u001b[0m\u001b[0;34m)\u001b[0m\u001b[0;34m\u001b[0m\u001b[0;34m\u001b[0m\u001b[0m\n\u001b[0m\u001b[1;32m    213\u001b[0m     \u001b[0;32mreturn\u001b[0m \u001b[0mproc\u001b[0m\u001b[0;34m.\u001b[0m\u001b[0mstdout\u001b[0m\u001b[0;34m\u001b[0m\u001b[0;34m\u001b[0m\u001b[0m\n",
      "\u001b[0;32m~/anaconda3/lib/python3.9/site-packages/graphviz/backend/execute.py\u001b[0m in \u001b[0;36mrun_check\u001b[0;34m(cmd, input_lines, encoding, quiet, **kwargs)\u001b[0m\n\u001b[1;32m     82\u001b[0m     \u001b[0;32mexcept\u001b[0m \u001b[0mOSError\u001b[0m \u001b[0;32mas\u001b[0m \u001b[0me\u001b[0m\u001b[0;34m:\u001b[0m\u001b[0;34m\u001b[0m\u001b[0;34m\u001b[0m\u001b[0m\n\u001b[1;32m     83\u001b[0m         \u001b[0;32mif\u001b[0m \u001b[0me\u001b[0m\u001b[0;34m.\u001b[0m\u001b[0merrno\u001b[0m \u001b[0;34m==\u001b[0m \u001b[0merrno\u001b[0m\u001b[0;34m.\u001b[0m\u001b[0mENOENT\u001b[0m\u001b[0;34m:\u001b[0m\u001b[0;34m\u001b[0m\u001b[0;34m\u001b[0m\u001b[0m\n\u001b[0;32m---> 84\u001b[0;31m             \u001b[0;32mraise\u001b[0m \u001b[0mExecutableNotFound\u001b[0m\u001b[0;34m(\u001b[0m\u001b[0mcmd\u001b[0m\u001b[0;34m)\u001b[0m \u001b[0;32mfrom\u001b[0m \u001b[0me\u001b[0m\u001b[0;34m\u001b[0m\u001b[0;34m\u001b[0m\u001b[0m\n\u001b[0m\u001b[1;32m     85\u001b[0m         \u001b[0;32mraise\u001b[0m\u001b[0;34m\u001b[0m\u001b[0;34m\u001b[0m\u001b[0m\n\u001b[1;32m     86\u001b[0m \u001b[0;34m\u001b[0m\u001b[0m\n",
      "\u001b[0;31mExecutableNotFound\u001b[0m: failed to execute PosixPath('dot'), make sure the Graphviz executables are on your systems' PATH"
     ]
    },
    {
     "data": {
      "text/plain": [
       "<graphviz.graphs.Digraph at 0x7fcee8480370>"
      ]
     },
     "execution_count": 1,
     "metadata": {},
     "output_type": "execute_result"
    }
   ],
   "source": [
    "import graphviz\n",
    "\n",
    "class ANDNODE:\n",
    "    def __init__(self,name):\n",
    "        self.name = name\n",
    "        self.nodes = []\n",
    "\n",
    "    def __repr__(self):\n",
    "        return str(self.nodes)\n",
    "\n",
    "    def add(self, node):\n",
    "        self.nodes.append(node)\n",
    "        return\n",
    "    \n",
    "    def topdown(self, mat):\n",
    "        for x in range(len(mat)):\n",
    "            for y in range(len(mat[x])):\n",
    "                if mat[x][y] == self:\n",
    "                    mat[x].pop(y)\n",
    "                    for node in self.nodes:\n",
    "                        mat[x].append(node)\n",
    "                        \n",
    "        for node in self.nodes:\n",
    "            node.topdown(mat)                       \n",
    "        return mat\n",
    "    \n",
    "    def print(self, graph):\n",
    "        graph.node(self.name, self.name + \" &\", shape='box')\n",
    "        for node in self.nodes:\n",
    "            graph.edge(self.name, node.name)\n",
    "            node.print(graph)\n",
    "        return graph     \n",
    "\n",
    "class ORNODE:\n",
    "    def __init__(self,name):\n",
    "        self.name = name\n",
    "        self.nodes = []\n",
    "\n",
    "    def __repr__(self):\n",
    "        return str(self.nodes)\n",
    "\n",
    "    def add(self, node):\n",
    "        self.nodes.append(node)\n",
    "        return\n",
    "    \n",
    "    def topdown(self, mat):\n",
    "        for x in range(len(mat)):\n",
    "            for y in range(len(mat[x])):\n",
    "                if mat[x][y] == self:\n",
    "                    for node in self.nodes[:-1]:\n",
    "                        mat.append(mat[x][:y] + [node] + mat[x][y+1:])\n",
    "                    mat[x][y] = self.nodes[-1]\n",
    "                        \n",
    "        for node in self.nodes:\n",
    "            node.topdown(mat)\n",
    "        return mat\n",
    "    \n",
    "    def print(self, graph):\n",
    "        graph.node(self.name, self.name + \" >-\", shape='diamond')\n",
    "        for node in self.nodes:\n",
    "            graph.edge(self.name, node.name)\n",
    "            node.print(graph)\n",
    "        return graph\n",
    "    \n",
    "class EVENT:\n",
    "    def __init__(self,name):\n",
    "        self.name = name\n",
    "    \n",
    "    def __repr__(self):\n",
    "        return str(self.name)\n",
    "        \n",
    "    def topdown(self, mat):\n",
    "        return mat\n",
    "    \n",
    "    def print(self, graph):\n",
    "        graph.node(self.name, self.name, shape='circle')\n",
    "        return graph\n",
    "    \n",
    "TOP = ANDNODE(\"TOP\")\n",
    "A = ORNODE(\"A\")\n",
    "B = ORNODE(\"B\")\n",
    "D = ANDNODE(\"D\")\n",
    "E1 = EVENT(\"1\")\n",
    "E2 = EVENT(\"2\")\n",
    "E3 = EVENT(\"3\")\n",
    "E4 = EVENT(\"4\")\n",
    "E5 = EVENT(\"5\")\n",
    "\n",
    "TOP.add(A)\n",
    "TOP.add(B)\n",
    "A.add(E1)\n",
    "A.add(E2)\n",
    "B.add(D)\n",
    "B.add(E5)\n",
    "D.add(E3)\n",
    "D.add(E4)\n",
    "\n",
    "print(\"Zusammensetzung TOP: \", TOP)\n",
    "mat = [[TOP]]\n",
    "mat = TOP.topdown(mat)\n",
    "print(mat)\n",
    "g = graphviz.Digraph()\n",
    "TOP.print(g)"
   ]
  },
  {
   "cell_type": "code",
   "execution_count": 52,
   "metadata": {},
   "outputs": [
    {
     "name": "stdout",
     "output_type": "stream",
     "text": [
      "Zusammensetzung TOP:  [[1, 2], [[3, 4], 5]]\n",
      "[[2, 5], [1, 5], [2, 3, 4], [1, 3, 4]]\n"
     ]
    },
    {
     "data": {
      "image/svg+xml": "<?xml version=\"1.0\" encoding=\"UTF-8\" standalone=\"no\"?>\r\n<!DOCTYPE svg PUBLIC \"-//W3C//DTD SVG 1.1//EN\"\r\n \"http://www.w3.org/Graphics/SVG/1.1/DTD/svg11.dtd\">\r\n<!-- Generated by graphviz version 2.38.0 (20140413.2041)\r\n -->\r\n<!-- Title: %3 Pages: 1 -->\r\n<svg width=\"240pt\" height=\"260pt\"\r\n viewBox=\"0.00 0.00 240.00 260.00\" xmlns=\"http://www.w3.org/2000/svg\" xmlns:xlink=\"http://www.w3.org/1999/xlink\">\r\n<g id=\"graph0\" class=\"graph\" transform=\"scale(1 1) rotate(0) translate(4 256)\">\r\n<title>%3</title>\r\n<polygon fill=\"white\" stroke=\"none\" points=\"-4,4 -4,-256 236,-256 236,4 -4,4\"/>\r\n<!-- TOP -->\r\n<g id=\"node1\" class=\"node\"><title>TOP</title>\r\n<polygon fill=\"none\" stroke=\"black\" points=\"140.5,-252 81.5,-252 81.5,-216 140.5,-216 140.5,-252\"/>\r\n<text text-anchor=\"middle\" x=\"111\" y=\"-230.3\" font-family=\"Times New Roman,serif\" font-size=\"14.00\">TOP &amp;</text>\r\n</g>\r\n<!-- A -->\r\n<g id=\"node2\" class=\"node\"><title>A</title>\r\n<polygon fill=\"none\" stroke=\"black\" points=\"63,-180 23.4525,-162 63,-144 102.548,-162 63,-180\"/>\r\n<text text-anchor=\"middle\" x=\"63\" y=\"-158.3\" font-family=\"Times New Roman,serif\" font-size=\"14.00\">A &gt;&#45;</text>\r\n</g>\r\n<!-- TOP&#45;&gt;A -->\r\n<g id=\"edge1\" class=\"edge\"><title>TOP&#45;&gt;A</title>\r\n<path fill=\"none\" stroke=\"black\" d=\"M99.1348,-215.697C92.7582,-206.397 84.8307,-194.836 78.0271,-184.914\"/>\r\n<polygon fill=\"black\" stroke=\"black\" points=\"80.7134,-182.643 72.1715,-176.375 74.9403,-186.602 80.7134,-182.643\"/>\r\n</g>\r\n<!-- B -->\r\n<g id=\"node5\" class=\"node\"><title>B</title>\r\n<polygon fill=\"none\" stroke=\"black\" points=\"159,-180 120.291,-162 159,-144 197.709,-162 159,-180\"/>\r\n<text text-anchor=\"middle\" x=\"159\" y=\"-158.3\" font-family=\"Times New Roman,serif\" font-size=\"14.00\">B &gt;&#45;</text>\r\n</g>\r\n<!-- TOP&#45;&gt;B -->\r\n<g id=\"edge4\" class=\"edge\"><title>TOP&#45;&gt;B</title>\r\n<path fill=\"none\" stroke=\"black\" d=\"M122.865,-215.697C129.393,-206.177 137.546,-194.288 144.454,-184.213\"/>\r\n<polygon fill=\"black\" stroke=\"black\" points=\"147.364,-186.158 150.133,-175.931 141.591,-182.199 147.364,-186.158\"/>\r\n</g>\r\n<!-- 1 -->\r\n<g id=\"node3\" class=\"node\"><title>1</title>\r\n<ellipse fill=\"none\" stroke=\"black\" cx=\"18\" cy=\"-90\" rx=\"18\" ry=\"18\"/>\r\n<text text-anchor=\"middle\" x=\"18\" y=\"-86.3\" font-family=\"Times New Roman,serif\" font-size=\"14.00\">1</text>\r\n</g>\r\n<!-- A&#45;&gt;1 -->\r\n<g id=\"edge2\" class=\"edge\"><title>A&#45;&gt;1</title>\r\n<path fill=\"none\" stroke=\"black\" d=\"M54.5358,-147.834C48.4287,-138.334 40.0245,-125.26 32.8161,-114.047\"/>\r\n<polygon fill=\"black\" stroke=\"black\" points=\"35.7099,-112.076 27.3582,-105.557 29.8217,-115.862 35.7099,-112.076\"/>\r\n</g>\r\n<!-- 2 -->\r\n<g id=\"node4\" class=\"node\"><title>2</title>\r\n<ellipse fill=\"none\" stroke=\"black\" cx=\"72\" cy=\"-90\" rx=\"18\" ry=\"18\"/>\r\n<text text-anchor=\"middle\" x=\"72\" y=\"-86.3\" font-family=\"Times New Roman,serif\" font-size=\"14.00\">2</text>\r\n</g>\r\n<!-- A&#45;&gt;2 -->\r\n<g id=\"edge3\" class=\"edge\"><title>A&#45;&gt;2</title>\r\n<path fill=\"none\" stroke=\"black\" d=\"M65.0874,-144.765C66.1026,-136.869 67.3504,-127.164 68.5051,-118.183\"/>\r\n<polygon fill=\"black\" stroke=\"black\" points=\"71.9945,-118.489 69.7984,-108.124 65.0516,-117.596 71.9945,-118.489\"/>\r\n</g>\r\n<!-- D -->\r\n<g id=\"node6\" class=\"node\"><title>D</title>\r\n<polygon fill=\"none\" stroke=\"black\" points=\"178,-108 124,-108 124,-72 178,-72 178,-108\"/>\r\n<text text-anchor=\"middle\" x=\"151\" y=\"-86.3\" font-family=\"Times New Roman,serif\" font-size=\"14.00\">D &amp;</text>\r\n</g>\r\n<!-- B&#45;&gt;D -->\r\n<g id=\"edge5\" class=\"edge\"><title>B&#45;&gt;D</title>\r\n<path fill=\"none\" stroke=\"black\" d=\"M157.145,-144.765C156.242,-136.869 155.133,-127.164 154.107,-118.183\"/>\r\n<polygon fill=\"black\" stroke=\"black\" points=\"157.57,-117.662 152.957,-108.124 150.615,-118.457 157.57,-117.662\"/>\r\n</g>\r\n<!-- 5 -->\r\n<g id=\"node9\" class=\"node\"><title>5</title>\r\n<ellipse fill=\"none\" stroke=\"black\" cx=\"214\" cy=\"-90\" rx=\"18\" ry=\"18\"/>\r\n<text text-anchor=\"middle\" x=\"214\" y=\"-86.3\" font-family=\"Times New Roman,serif\" font-size=\"14.00\">5</text>\r\n</g>\r\n<!-- B&#45;&gt;5 -->\r\n<g id=\"edge8\" class=\"edge\"><title>B&#45;&gt;5</title>\r\n<path fill=\"none\" stroke=\"black\" d=\"M168.833,-148.485C176.59,-138.612 187.6,-124.6 196.808,-112.881\"/>\r\n<polygon fill=\"black\" stroke=\"black\" points=\"199.695,-114.871 203.121,-104.845 194.191,-110.546 199.695,-114.871\"/>\r\n</g>\r\n<!-- 3 -->\r\n<g id=\"node7\" class=\"node\"><title>3</title>\r\n<ellipse fill=\"none\" stroke=\"black\" cx=\"124\" cy=\"-18\" rx=\"18\" ry=\"18\"/>\r\n<text text-anchor=\"middle\" x=\"124\" y=\"-14.3\" font-family=\"Times New Roman,serif\" font-size=\"14.00\">3</text>\r\n</g>\r\n<!-- D&#45;&gt;3 -->\r\n<g id=\"edge6\" class=\"edge\"><title>D&#45;&gt;3</title>\r\n<path fill=\"none\" stroke=\"black\" d=\"M144.326,-71.6966C141.161,-63.4906 137.316,-53.5232 133.826,-44.4751\"/>\r\n<polygon fill=\"black\" stroke=\"black\" points=\"137.091,-43.215 130.227,-35.1446 130.56,-45.7342 137.091,-43.215\"/>\r\n</g>\r\n<!-- 4 -->\r\n<g id=\"node8\" class=\"node\"><title>4</title>\r\n<ellipse fill=\"none\" stroke=\"black\" cx=\"178\" cy=\"-18\" rx=\"18\" ry=\"18\"/>\r\n<text text-anchor=\"middle\" x=\"178\" y=\"-14.3\" font-family=\"Times New Roman,serif\" font-size=\"14.00\">4</text>\r\n</g>\r\n<!-- D&#45;&gt;4 -->\r\n<g id=\"edge7\" class=\"edge\"><title>D&#45;&gt;4</title>\r\n<path fill=\"none\" stroke=\"black\" d=\"M157.674,-71.6966C160.839,-63.4906 164.684,-53.5232 168.174,-44.4751\"/>\r\n<polygon fill=\"black\" stroke=\"black\" points=\"171.44,-45.7342 171.773,-35.1446 164.909,-43.215 171.44,-45.7342\"/>\r\n</g>\r\n</g>\r\n</svg>\r\n",
      "text/plain": [
       "<graphviz.dot.Digraph at 0x2105aff2d60>"
      ]
     },
     "execution_count": 52,
     "metadata": {},
     "output_type": "execute_result"
    }
   ],
   "source": [
    "TOP = ANDNODE(\"TOP\")\n",
    "A = ORNODE(\"A\")\n",
    "B = ORNODE(\"B\")\n",
    "D = ANDNODE(\"D\")\n",
    "E1 = EVENT(\"1\")\n",
    "E2 = EVENT(\"2\")\n",
    "E3 = EVENT(\"3\")\n",
    "E4 = EVENT(\"4\")\n",
    "E5 = EVENT(\"5\")\n",
    "\n",
    "TOP.add(A)\n",
    "TOP.add(B)\n",
    "A.add(E1)\n",
    "A.add(E2)\n",
    "B.add(D)\n",
    "B.add(E5)\n",
    "D.add(E3)\n",
    "D.add(E4)\n",
    "\n",
    "print(\"Zusammensetzung TOP: \", TOP)\n",
    "mat = [[TOP]]\n",
    "mat = TOP.topdown(mat)\n",
    "print(mat)\n",
    "g = graphviz.Digraph()\n",
    "TOP.print(g)"
   ]
  },
  {
   "cell_type": "code",
   "execution_count": 53,
   "metadata": {},
   "outputs": [
    {
     "name": "stdout",
     "output_type": "stream",
     "text": [
      "Zusammensetzung TOP:  [[1, 2], [[3, 4], 5]]\n",
      "[[5], [2], [1], [4], [3]]\n"
     ]
    },
    {
     "data": {
      "image/svg+xml": "<?xml version=\"1.0\" encoding=\"UTF-8\" standalone=\"no\"?>\r\n<!DOCTYPE svg PUBLIC \"-//W3C//DTD SVG 1.1//EN\"\r\n \"http://www.w3.org/Graphics/SVG/1.1/DTD/svg11.dtd\">\r\n<!-- Generated by graphviz version 2.38.0 (20140413.2041)\r\n -->\r\n<!-- Title: %3 Pages: 1 -->\r\n<svg width=\"260pt\" height=\"260pt\"\r\n viewBox=\"0.00 0.00 260.00 260.00\" xmlns=\"http://www.w3.org/2000/svg\" xmlns:xlink=\"http://www.w3.org/1999/xlink\">\r\n<g id=\"graph0\" class=\"graph\" transform=\"scale(1 1) rotate(0) translate(4 256)\">\r\n<title>%3</title>\r\n<polygon fill=\"white\" stroke=\"none\" points=\"-4,4 -4,-256 256,-256 256,4 -4,4\"/>\r\n<!-- TOP -->\r\n<g id=\"node1\" class=\"node\"><title>TOP</title>\r\n<polygon fill=\"none\" stroke=\"black\" points=\"115,-252 58.8627,-234 115,-216 171.137,-234 115,-252\"/>\r\n<text text-anchor=\"middle\" x=\"115\" y=\"-230.3\" font-family=\"Times New Roman,serif\" font-size=\"14.00\">TOP &gt;&#45;</text>\r\n</g>\r\n<!-- A -->\r\n<g id=\"node2\" class=\"node\"><title>A</title>\r\n<polygon fill=\"none\" stroke=\"black\" points=\"67,-180 27.4525,-162 67,-144 106.548,-162 67,-180\"/>\r\n<text text-anchor=\"middle\" x=\"67\" y=\"-158.3\" font-family=\"Times New Roman,serif\" font-size=\"14.00\">A &gt;&#45;</text>\r\n</g>\r\n<!-- TOP&#45;&gt;A -->\r\n<g id=\"edge1\" class=\"edge\"><title>TOP&#45;&gt;A</title>\r\n<path fill=\"none\" stroke=\"black\" d=\"M105.286,-218.834C98.5424,-208.999 89.432,-195.713 81.7901,-184.569\"/>\r\n<polygon fill=\"black\" stroke=\"black\" points=\"84.5915,-182.465 76.0496,-176.197 78.8183,-186.424 84.5915,-182.465\"/>\r\n</g>\r\n<!-- B -->\r\n<g id=\"node5\" class=\"node\"><title>B</title>\r\n<polygon fill=\"none\" stroke=\"black\" points=\"163,-180 124.291,-162 163,-144 201.709,-162 163,-180\"/>\r\n<text text-anchor=\"middle\" x=\"163\" y=\"-158.3\" font-family=\"Times New Roman,serif\" font-size=\"14.00\">B &gt;&#45;</text>\r\n</g>\r\n<!-- TOP&#45;&gt;B -->\r\n<g id=\"edge4\" class=\"edge\"><title>TOP&#45;&gt;B</title>\r\n<path fill=\"none\" stroke=\"black\" d=\"M124.714,-218.834C131.458,-208.999 140.568,-195.713 148.21,-184.569\"/>\r\n<polygon fill=\"black\" stroke=\"black\" points=\"151.182,-186.424 153.95,-176.197 145.409,-182.465 151.182,-186.424\"/>\r\n</g>\r\n<!-- 1 -->\r\n<g id=\"node3\" class=\"node\"><title>1</title>\r\n<ellipse fill=\"none\" stroke=\"black\" cx=\"18\" cy=\"-90\" rx=\"18\" ry=\"18\"/>\r\n<text text-anchor=\"middle\" x=\"18\" y=\"-86.3\" font-family=\"Times New Roman,serif\" font-size=\"14.00\">1</text>\r\n</g>\r\n<!-- A&#45;&gt;1 -->\r\n<g id=\"edge2\" class=\"edge\"><title>A&#45;&gt;1</title>\r\n<path fill=\"none\" stroke=\"black\" d=\"M57.7835,-147.834C50.9792,-138.113 41.5564,-124.652 33.5892,-113.27\"/>\r\n<polygon fill=\"black\" stroke=\"black\" points=\"36.4497,-111.253 27.8477,-105.068 30.7151,-115.268 36.4497,-111.253\"/>\r\n</g>\r\n<!-- 2 -->\r\n<g id=\"node4\" class=\"node\"><title>2</title>\r\n<ellipse fill=\"none\" stroke=\"black\" cx=\"72\" cy=\"-90\" rx=\"18\" ry=\"18\"/>\r\n<text text-anchor=\"middle\" x=\"72\" y=\"-86.3\" font-family=\"Times New Roman,serif\" font-size=\"14.00\">2</text>\r\n</g>\r\n<!-- A&#45;&gt;2 -->\r\n<g id=\"edge3\" class=\"edge\"><title>A&#45;&gt;2</title>\r\n<path fill=\"none\" stroke=\"black\" d=\"M68.1849,-144.411C68.7352,-136.708 69.4042,-127.341 70.0274,-118.616\"/>\r\n<polygon fill=\"black\" stroke=\"black\" points=\"73.5323,-118.671 70.7538,-108.447 66.5501,-118.172 73.5323,-118.671\"/>\r\n</g>\r\n<!-- D -->\r\n<g id=\"node6\" class=\"node\"><title>D</title>\r\n<polygon fill=\"none\" stroke=\"black\" points=\"158,-108 118.452,-90 158,-72 197.548,-90 158,-108\"/>\r\n<text text-anchor=\"middle\" x=\"158\" y=\"-86.3\" font-family=\"Times New Roman,serif\" font-size=\"14.00\">D &gt;&#45;</text>\r\n</g>\r\n<!-- B&#45;&gt;D -->\r\n<g id=\"edge5\" class=\"edge\"><title>B&#45;&gt;D</title>\r\n<path fill=\"none\" stroke=\"black\" d=\"M161.815,-144.411C161.242,-136.391 160.541,-126.567 159.896,-117.542\"/>\r\n<polygon fill=\"black\" stroke=\"black\" points=\"163.38,-117.195 159.176,-107.47 156.398,-117.694 163.38,-117.195\"/>\r\n</g>\r\n<!-- 5 -->\r\n<g id=\"node9\" class=\"node\"><title>5</title>\r\n<ellipse fill=\"none\" stroke=\"black\" cx=\"234\" cy=\"-90\" rx=\"18\" ry=\"18\"/>\r\n<text text-anchor=\"middle\" x=\"234\" y=\"-86.3\" font-family=\"Times New Roman,serif\" font-size=\"14.00\">5</text>\r\n</g>\r\n<!-- B&#45;&gt;5 -->\r\n<g id=\"edge8\" class=\"edge\"><title>B&#45;&gt;5</title>\r\n<path fill=\"none\" stroke=\"black\" d=\"M174.724,-149.441C185.423,-138.893 201.453,-123.089 214.146,-110.574\"/>\r\n<polygon fill=\"black\" stroke=\"black\" points=\"216.878,-112.796 221.541,-103.283 211.963,-107.812 216.878,-112.796\"/>\r\n</g>\r\n<!-- 3 -->\r\n<g id=\"node7\" class=\"node\"><title>3</title>\r\n<ellipse fill=\"none\" stroke=\"black\" cx=\"131\" cy=\"-18\" rx=\"18\" ry=\"18\"/>\r\n<text text-anchor=\"middle\" x=\"131\" y=\"-14.3\" font-family=\"Times New Roman,serif\" font-size=\"14.00\">3</text>\r\n</g>\r\n<!-- D&#45;&gt;3 -->\r\n<g id=\"edge6\" class=\"edge\"><title>D&#45;&gt;3</title>\r\n<path fill=\"none\" stroke=\"black\" d=\"M152.406,-74.496C149.069,-65.8461 144.738,-54.6174 140.845,-44.5254\"/>\r\n<polygon fill=\"black\" stroke=\"black\" points=\"144.016,-43.0202 137.152,-34.9498 137.485,-45.5394 144.016,-43.0202\"/>\r\n</g>\r\n<!-- 4 -->\r\n<g id=\"node8\" class=\"node\"><title>4</title>\r\n<ellipse fill=\"none\" stroke=\"black\" cx=\"185\" cy=\"-18\" rx=\"18\" ry=\"18\"/>\r\n<text text-anchor=\"middle\" x=\"185\" y=\"-14.3\" font-family=\"Times New Roman,serif\" font-size=\"14.00\">4</text>\r\n</g>\r\n<!-- D&#45;&gt;4 -->\r\n<g id=\"edge7\" class=\"edge\"><title>D&#45;&gt;4</title>\r\n<path fill=\"none\" stroke=\"black\" d=\"M163.594,-74.496C166.931,-65.8461 171.262,-54.6174 175.155,-44.5254\"/>\r\n<polygon fill=\"black\" stroke=\"black\" points=\"178.515,-45.5394 178.848,-34.9498 171.984,-43.0202 178.515,-45.5394\"/>\r\n</g>\r\n</g>\r\n</svg>\r\n",
      "text/plain": [
       "<graphviz.dot.Digraph at 0x2105b0f17c0>"
      ]
     },
     "execution_count": 53,
     "metadata": {},
     "output_type": "execute_result"
    }
   ],
   "source": [
    "TOP = ORNODE(\"TOP\")\n",
    "A = ORNODE(\"A\")\n",
    "B = ORNODE(\"B\")\n",
    "D = ORNODE(\"D\")\n",
    "E1 = EVENT(\"1\")\n",
    "E2 = EVENT(\"2\")\n",
    "E3 = EVENT(\"3\")\n",
    "E4 = EVENT(\"4\")\n",
    "E5 = EVENT(\"5\")\n",
    "\n",
    "TOP.add(A)\n",
    "TOP.add(B)\n",
    "A.add(E1)\n",
    "A.add(E2)\n",
    "B.add(D)\n",
    "B.add(E5)\n",
    "D.add(E3)\n",
    "D.add(E4)\n",
    "\n",
    "print(\"Zusammensetzung TOP: \", TOP)\n",
    "mat = [[TOP]]\n",
    "mat = TOP.topdown(mat)\n",
    "print(mat)\n",
    "g = graphviz.Digraph()\n",
    "TOP.print(g)"
   ]
  },
  {
   "cell_type": "code",
   "execution_count": 54,
   "metadata": {},
   "outputs": [
    {
     "name": "stdout",
     "output_type": "stream",
     "text": [
      "Zusammensetzung TOP:  [[1, 2], [[3, 4], 5]]\n",
      "[[1, 2, 5, 3, 4]]\n"
     ]
    },
    {
     "data": {
      "image/svg+xml": "<?xml version=\"1.0\" encoding=\"UTF-8\" standalone=\"no\"?>\r\n<!DOCTYPE svg PUBLIC \"-//W3C//DTD SVG 1.1//EN\"\r\n \"http://www.w3.org/Graphics/SVG/1.1/DTD/svg11.dtd\">\r\n<!-- Generated by graphviz version 2.38.0 (20140413.2041)\r\n -->\r\n<!-- Title: %3 Pages: 1 -->\r\n<svg width=\"228pt\" height=\"260pt\"\r\n viewBox=\"0.00 0.00 228.00 260.00\" xmlns=\"http://www.w3.org/2000/svg\" xmlns:xlink=\"http://www.w3.org/1999/xlink\">\r\n<g id=\"graph0\" class=\"graph\" transform=\"scale(1 1) rotate(0) translate(4 256)\">\r\n<title>%3</title>\r\n<polygon fill=\"white\" stroke=\"none\" points=\"-4,4 -4,-256 224,-256 224,4 -4,4\"/>\r\n<!-- TOP -->\r\n<g id=\"node1\" class=\"node\"><title>TOP</title>\r\n<polygon fill=\"none\" stroke=\"black\" points=\"134.5,-252 75.5,-252 75.5,-216 134.5,-216 134.5,-252\"/>\r\n<text text-anchor=\"middle\" x=\"105\" y=\"-230.3\" font-family=\"Times New Roman,serif\" font-size=\"14.00\">TOP &amp;</text>\r\n</g>\r\n<!-- A -->\r\n<g id=\"node2\" class=\"node\"><title>A</title>\r\n<polygon fill=\"none\" stroke=\"black\" points=\"96,-180 42,-180 42,-144 96,-144 96,-180\"/>\r\n<text text-anchor=\"middle\" x=\"69\" y=\"-158.3\" font-family=\"Times New Roman,serif\" font-size=\"14.00\">A &amp;</text>\r\n</g>\r\n<!-- TOP&#45;&gt;A -->\r\n<g id=\"edge1\" class=\"edge\"><title>TOP&#45;&gt;A</title>\r\n<path fill=\"none\" stroke=\"black\" d=\"M96.1011,-215.697C92.0032,-207.728 87.0512,-198.1 82.5073,-189.264\"/>\r\n<polygon fill=\"black\" stroke=\"black\" points=\"85.4826,-187.396 77.7965,-180.104 79.2575,-190.598 85.4826,-187.396\"/>\r\n</g>\r\n<!-- B -->\r\n<g id=\"node5\" class=\"node\"><title>B</title>\r\n<polygon fill=\"none\" stroke=\"black\" points=\"168,-180 114,-180 114,-144 168,-144 168,-180\"/>\r\n<text text-anchor=\"middle\" x=\"141\" y=\"-158.3\" font-family=\"Times New Roman,serif\" font-size=\"14.00\">B &amp;</text>\r\n</g>\r\n<!-- TOP&#45;&gt;B -->\r\n<g id=\"edge4\" class=\"edge\"><title>TOP&#45;&gt;B</title>\r\n<path fill=\"none\" stroke=\"black\" d=\"M113.899,-215.697C117.997,-207.728 122.949,-198.1 127.493,-189.264\"/>\r\n<polygon fill=\"black\" stroke=\"black\" points=\"130.742,-190.598 132.203,-180.104 124.517,-187.396 130.742,-190.598\"/>\r\n</g>\r\n<!-- 1 -->\r\n<g id=\"node3\" class=\"node\"><title>1</title>\r\n<ellipse fill=\"none\" stroke=\"black\" cx=\"18\" cy=\"-90\" rx=\"18\" ry=\"18\"/>\r\n<text text-anchor=\"middle\" x=\"18\" y=\"-86.3\" font-family=\"Times New Roman,serif\" font-size=\"14.00\">1</text>\r\n</g>\r\n<!-- A&#45;&gt;1 -->\r\n<g id=\"edge2\" class=\"edge\"><title>A&#45;&gt;1</title>\r\n<path fill=\"none\" stroke=\"black\" d=\"M56.3933,-143.697C49.7315,-134.553 41.4766,-123.223 34.3302,-113.414\"/>\r\n<polygon fill=\"black\" stroke=\"black\" points=\"37.1207,-111.3 28.4032,-105.279 31.463,-115.422 37.1207,-111.3\"/>\r\n</g>\r\n<!-- 2 -->\r\n<g id=\"node4\" class=\"node\"><title>2</title>\r\n<ellipse fill=\"none\" stroke=\"black\" cx=\"72\" cy=\"-90\" rx=\"18\" ry=\"18\"/>\r\n<text text-anchor=\"middle\" x=\"72\" y=\"-86.3\" font-family=\"Times New Roman,serif\" font-size=\"14.00\">2</text>\r\n</g>\r\n<!-- A&#45;&gt;2 -->\r\n<g id=\"edge3\" class=\"edge\"><title>A&#45;&gt;2</title>\r\n<path fill=\"none\" stroke=\"black\" d=\"M69.7416,-143.697C70.0722,-135.983 70.4695,-126.712 70.838,-118.112\"/>\r\n<polygon fill=\"black\" stroke=\"black\" points=\"74.3355,-118.245 71.267,-108.104 67.3419,-117.945 74.3355,-118.245\"/>\r\n</g>\r\n<!-- D -->\r\n<g id=\"node6\" class=\"node\"><title>D</title>\r\n<polygon fill=\"none\" stroke=\"black\" points=\"166,-108 112,-108 112,-72 166,-72 166,-108\"/>\r\n<text text-anchor=\"middle\" x=\"139\" y=\"-86.3\" font-family=\"Times New Roman,serif\" font-size=\"14.00\">D &amp;</text>\r\n</g>\r\n<!-- B&#45;&gt;D -->\r\n<g id=\"edge5\" class=\"edge\"><title>B&#45;&gt;D</title>\r\n<path fill=\"none\" stroke=\"black\" d=\"M140.506,-143.697C140.285,-135.983 140.02,-126.712 139.775,-118.112\"/>\r\n<polygon fill=\"black\" stroke=\"black\" points=\"143.273,-118 139.489,-108.104 136.276,-118.2 143.273,-118\"/>\r\n</g>\r\n<!-- 5 -->\r\n<g id=\"node9\" class=\"node\"><title>5</title>\r\n<ellipse fill=\"none\" stroke=\"black\" cx=\"202\" cy=\"-90\" rx=\"18\" ry=\"18\"/>\r\n<text text-anchor=\"middle\" x=\"202\" y=\"-86.3\" font-family=\"Times New Roman,serif\" font-size=\"14.00\">5</text>\r\n</g>\r\n<!-- B&#45;&gt;5 -->\r\n<g id=\"edge8\" class=\"edge\"><title>B&#45;&gt;5</title>\r\n<path fill=\"none\" stroke=\"black\" d=\"M156.079,-143.697C164.43,-134.113 174.875,-122.127 183.693,-112.008\"/>\r\n<polygon fill=\"black\" stroke=\"black\" points=\"186.413,-114.214 190.345,-104.375 181.136,-109.615 186.413,-114.214\"/>\r\n</g>\r\n<!-- 3 -->\r\n<g id=\"node7\" class=\"node\"><title>3</title>\r\n<ellipse fill=\"none\" stroke=\"black\" cx=\"112\" cy=\"-18\" rx=\"18\" ry=\"18\"/>\r\n<text text-anchor=\"middle\" x=\"112\" y=\"-14.3\" font-family=\"Times New Roman,serif\" font-size=\"14.00\">3</text>\r\n</g>\r\n<!-- D&#45;&gt;3 -->\r\n<g id=\"edge6\" class=\"edge\"><title>D&#45;&gt;3</title>\r\n<path fill=\"none\" stroke=\"black\" d=\"M132.326,-71.6966C129.161,-63.4906 125.316,-53.5232 121.826,-44.4751\"/>\r\n<polygon fill=\"black\" stroke=\"black\" points=\"125.091,-43.215 118.227,-35.1446 118.56,-45.7342 125.091,-43.215\"/>\r\n</g>\r\n<!-- 4 -->\r\n<g id=\"node8\" class=\"node\"><title>4</title>\r\n<ellipse fill=\"none\" stroke=\"black\" cx=\"166\" cy=\"-18\" rx=\"18\" ry=\"18\"/>\r\n<text text-anchor=\"middle\" x=\"166\" y=\"-14.3\" font-family=\"Times New Roman,serif\" font-size=\"14.00\">4</text>\r\n</g>\r\n<!-- D&#45;&gt;4 -->\r\n<g id=\"edge7\" class=\"edge\"><title>D&#45;&gt;4</title>\r\n<path fill=\"none\" stroke=\"black\" d=\"M145.674,-71.6966C148.839,-63.4906 152.684,-53.5232 156.174,-44.4751\"/>\r\n<polygon fill=\"black\" stroke=\"black\" points=\"159.44,-45.7342 159.773,-35.1446 152.909,-43.215 159.44,-45.7342\"/>\r\n</g>\r\n</g>\r\n</svg>\r\n",
      "text/plain": [
       "<graphviz.dot.Digraph at 0x2105b0fbdc0>"
      ]
     },
     "execution_count": 54,
     "metadata": {},
     "output_type": "execute_result"
    }
   ],
   "source": [
    "TOP = ANDNODE(\"TOP\")\n",
    "A = ANDNODE(\"A\")\n",
    "B = ANDNODE(\"B\")\n",
    "D = ANDNODE(\"D\")\n",
    "E1 = EVENT(\"1\")\n",
    "E2 = EVENT(\"2\")\n",
    "E3 = EVENT(\"3\")\n",
    "E4 = EVENT(\"4\")\n",
    "E5 = EVENT(\"5\")\n",
    "\n",
    "TOP.add(A)\n",
    "TOP.add(B)\n",
    "A.add(E1)\n",
    "A.add(E2)\n",
    "B.add(D)\n",
    "B.add(E5)\n",
    "D.add(E3)\n",
    "D.add(E4)\n",
    "\n",
    "print(\"Zusammensetzung TOP: \", TOP)\n",
    "mat = [[TOP]]\n",
    "mat = TOP.topdown(mat)\n",
    "print(mat)\n",
    "g = graphviz.Digraph()\n",
    "TOP.print(g)"
   ]
  },
  {
   "cell_type": "code",
   "execution_count": 68,
   "metadata": {},
   "outputs": [
    {
     "name": "stdout",
     "output_type": "stream",
     "text": [
      "Zusammensetzung TOP:  [[[1, 2], [3, 4]], [[5, 1], [[[4, 5], 3], 2]]]\n",
      "[[4, 5, 1, 3, 2], [2, 5, 1, 3, 2], [1, 5, 1, 3, 2], [3, 5, 1, 3, 2], [4, 5, 1, 2, 4, 5], [2, 5, 1, 2, 4, 5], [1, 5, 1, 2, 4, 5], [3, 5, 1, 2, 4, 5]]\n"
     ]
    },
    {
     "data": {
      "image/svg+xml": "<?xml version=\"1.0\" encoding=\"UTF-8\" standalone=\"no\"?>\r\n<!DOCTYPE svg PUBLIC \"-//W3C//DTD SVG 1.1//EN\"\r\n \"http://www.w3.org/Graphics/SVG/1.1/DTD/svg11.dtd\">\r\n<!-- Generated by graphviz version 2.38.0 (20140413.2041)\r\n -->\r\n<!-- Title: %3 Pages: 1 -->\r\n<svg width=\"343pt\" height=\"404pt\"\r\n viewBox=\"0.00 0.00 342.52 404.00\" xmlns=\"http://www.w3.org/2000/svg\" xmlns:xlink=\"http://www.w3.org/1999/xlink\">\r\n<g id=\"graph0\" class=\"graph\" transform=\"scale(1 1) rotate(0) translate(4 400)\">\r\n<title>%3</title>\r\n<polygon fill=\"white\" stroke=\"none\" points=\"-4,4 -4,-400 338.524,-400 338.524,4 -4,4\"/>\r\n<!-- TOP -->\r\n<g id=\"node1\" class=\"node\"><title>TOP</title>\r\n<polygon fill=\"none\" stroke=\"black\" points=\"216.024,-396 157.024,-396 157.024,-360 216.024,-360 216.024,-396\"/>\r\n<text text-anchor=\"middle\" x=\"186.524\" y=\"-374.3\" font-family=\"Times New Roman,serif\" font-size=\"14.00\">TOP &amp;</text>\r\n</g>\r\n<!-- A -->\r\n<g id=\"node2\" class=\"node\"><title>A</title>\r\n<polygon fill=\"none\" stroke=\"black\" points=\"144.524,-324 104.976,-306 144.524,-288 184.071,-306 144.524,-324\"/>\r\n<text text-anchor=\"middle\" x=\"144.524\" y=\"-302.3\" font-family=\"Times New Roman,serif\" font-size=\"14.00\">A &gt;&#45;</text>\r\n</g>\r\n<!-- TOP&#45;&gt;A -->\r\n<g id=\"edge1\" class=\"edge\"><title>TOP&#45;&gt;A</title>\r\n<path fill=\"none\" stroke=\"black\" d=\"M176.142,-359.697C170.619,-350.492 163.767,-339.072 157.855,-329.219\"/>\r\n<polygon fill=\"black\" stroke=\"black\" points=\"160.695,-327.149 152.549,-320.375 154.693,-330.751 160.695,-327.149\"/>\r\n</g>\r\n<!-- B -->\r\n<g id=\"node9\" class=\"node\"><title>B</title>\r\n<polygon fill=\"none\" stroke=\"black\" points=\"256.524,-324 202.524,-324 202.524,-288 256.524,-288 256.524,-324\"/>\r\n<text text-anchor=\"middle\" x=\"229.524\" y=\"-302.3\" font-family=\"Times New Roman,serif\" font-size=\"14.00\">B &amp;</text>\r\n</g>\r\n<!-- TOP&#45;&gt;B -->\r\n<g id=\"edge8\" class=\"edge\"><title>TOP&#45;&gt;B</title>\r\n<path fill=\"none\" stroke=\"black\" d=\"M197.153,-359.697C202.152,-351.559 208.215,-341.689 213.736,-332.701\"/>\r\n<polygon fill=\"black\" stroke=\"black\" points=\"216.765,-334.457 219.017,-324.104 210.8,-330.793 216.765,-334.457\"/>\r\n</g>\r\n<!-- C -->\r\n<g id=\"node3\" class=\"node\"><title>C</title>\r\n<polygon fill=\"none\" stroke=\"black\" points=\"222.524,-252 182.976,-234 222.524,-216 262.071,-234 222.524,-252\"/>\r\n<text text-anchor=\"middle\" x=\"222.524\" y=\"-230.3\" font-family=\"Times New Roman,serif\" font-size=\"14.00\">C &gt;&#45;</text>\r\n</g>\r\n<!-- A&#45;&gt;C -->\r\n<g id=\"edge2\" class=\"edge\"><title>A&#45;&gt;C</title>\r\n<path fill=\"none\" stroke=\"black\" d=\"M157.404,-293.441C169.557,-282.534 187.974,-266.006 202.124,-253.307\"/>\r\n<polygon fill=\"black\" stroke=\"black\" points=\"204.779,-255.628 209.883,-246.344 200.103,-250.418 204.779,-255.628\"/>\r\n</g>\r\n<!-- D -->\r\n<g id=\"node6\" class=\"node\"><title>D</title>\r\n<polygon fill=\"none\" stroke=\"black\" points=\"39.5238,-180 -0.0237764,-162 39.5238,-144 79.0713,-162 39.5238,-180\"/>\r\n<text text-anchor=\"middle\" x=\"39.5238\" y=\"-158.3\" font-family=\"Times New Roman,serif\" font-size=\"14.00\">D &gt;&#45;</text>\r\n</g>\r\n<!-- A&#45;&gt;D -->\r\n<g id=\"edge5\" class=\"edge\"><title>A&#45;&gt;D</title>\r\n<path fill=\"none\" stroke=\"black\" d=\"M134.008,-292.57C125.136,-281.957 112.21,-266.202 101.524,-252 84.6518,-229.576 66.4132,-203.1 54.1164,-184.888\"/>\r\n<polygon fill=\"black\" stroke=\"black\" points=\"56.7491,-182.531 48.2663,-176.183 50.9392,-186.435 56.7491,-182.531\"/>\r\n</g>\r\n<!-- 1 -->\r\n<g id=\"node4\" class=\"node\"><title>1</title>\r\n<ellipse fill=\"none\" stroke=\"black\" cx=\"267.524\" cy=\"-162\" rx=\"18\" ry=\"18\"/>\r\n<text text-anchor=\"middle\" x=\"267.524\" y=\"-158.3\" font-family=\"Times New Roman,serif\" font-size=\"14.00\">1</text>\r\n</g>\r\n<!-- C&#45;&gt;1 -->\r\n<g id=\"edge3\" class=\"edge\"><title>C&#45;&gt;1</title>\r\n<path fill=\"none\" stroke=\"black\" d=\"M230.988,-219.834C237.095,-210.334 245.499,-197.26 252.708,-186.047\"/>\r\n<polygon fill=\"black\" stroke=\"black\" points=\"255.702,-187.862 258.166,-177.557 249.814,-184.076 255.702,-187.862\"/>\r\n</g>\r\n<!-- 2 -->\r\n<g id=\"node5\" class=\"node\"><title>2</title>\r\n<ellipse fill=\"none\" stroke=\"black\" cx=\"213.524\" cy=\"-162\" rx=\"18\" ry=\"18\"/>\r\n<text text-anchor=\"middle\" x=\"213.524\" y=\"-158.3\" font-family=\"Times New Roman,serif\" font-size=\"14.00\">2</text>\r\n</g>\r\n<!-- C&#45;&gt;2 -->\r\n<g id=\"edge4\" class=\"edge\"><title>C&#45;&gt;2</title>\r\n<path fill=\"none\" stroke=\"black\" d=\"M220.436,-216.765C219.421,-208.869 218.173,-199.164 217.019,-190.183\"/>\r\n<polygon fill=\"black\" stroke=\"black\" points=\"220.472,-189.596 215.725,-180.124 213.529,-190.489 220.472,-189.596\"/>\r\n</g>\r\n<!-- 3 -->\r\n<g id=\"node7\" class=\"node\"><title>3</title>\r\n<ellipse fill=\"none\" stroke=\"black\" cx=\"85.5238\" cy=\"-90\" rx=\"18\" ry=\"18\"/>\r\n<text text-anchor=\"middle\" x=\"85.5238\" y=\"-86.3\" font-family=\"Times New Roman,serif\" font-size=\"14.00\">3</text>\r\n</g>\r\n<!-- D&#45;&gt;3 -->\r\n<g id=\"edge6\" class=\"edge\"><title>D&#45;&gt;3</title>\r\n<path fill=\"none\" stroke=\"black\" d=\"M48.176,-147.834C54.4189,-138.334 63.0099,-125.26 70.3784,-114.047\"/>\r\n<polygon fill=\"black\" stroke=\"black\" points=\"73.3908,-115.836 75.9576,-105.557 67.5408,-111.992 73.3908,-115.836\"/>\r\n</g>\r\n<!-- 4 -->\r\n<g id=\"node8\" class=\"node\"><title>4</title>\r\n<ellipse fill=\"none\" stroke=\"black\" cx=\"107.524\" cy=\"-18\" rx=\"18\" ry=\"18\"/>\r\n<text text-anchor=\"middle\" x=\"107.524\" y=\"-14.3\" font-family=\"Times New Roman,serif\" font-size=\"14.00\">4</text>\r\n</g>\r\n<!-- D&#45;&gt;4 -->\r\n<g id=\"edge7\" class=\"edge\"><title>D&#45;&gt;4</title>\r\n<path fill=\"none\" stroke=\"black\" d=\"M40.4419,-144.368C42.0475,-125.794 46.4529,-95.2844 58.5238,-72 65.35,-58.8322 76.3384,-46.5112 86.181,-37.0687\"/>\r\n<polygon fill=\"black\" stroke=\"black\" points=\"88.7204,-39.4889 93.7276,-30.152 83.9907,-34.3285 88.7204,-39.4889\"/>\r\n</g>\r\n<!-- E -->\r\n<g id=\"node10\" class=\"node\"><title>E</title>\r\n<polygon fill=\"none\" stroke=\"black\" points=\"334.524,-252 280.524,-252 280.524,-216 334.524,-216 334.524,-252\"/>\r\n<text text-anchor=\"middle\" x=\"307.524\" y=\"-230.3\" font-family=\"Times New Roman,serif\" font-size=\"14.00\">E &amp;</text>\r\n</g>\r\n<!-- B&#45;&gt;E -->\r\n<g id=\"edge9\" class=\"edge\"><title>B&#45;&gt;E</title>\r\n<path fill=\"none\" stroke=\"black\" d=\"M248.805,-287.697C258.439,-279.05 270.253,-268.449 280.751,-259.027\"/>\r\n<polygon fill=\"black\" stroke=\"black\" points=\"283.36,-261.388 288.465,-252.104 278.685,-256.179 283.36,-261.388\"/>\r\n</g>\r\n<!-- F -->\r\n<g id=\"node12\" class=\"node\"><title>F</title>\r\n<polygon fill=\"none\" stroke=\"black\" points=\"164.524,-252 110.524,-252 110.524,-216 164.524,-216 164.524,-252\"/>\r\n<text text-anchor=\"middle\" x=\"137.524\" y=\"-230.3\" font-family=\"Times New Roman,serif\" font-size=\"14.00\">F &amp;</text>\r\n</g>\r\n<!-- B&#45;&gt;F -->\r\n<g id=\"edge12\" class=\"edge\"><title>B&#45;&gt;F</title>\r\n<path fill=\"none\" stroke=\"black\" d=\"M206.782,-287.697C195.084,-278.796 180.663,-267.823 168.014,-258.199\"/>\r\n<polygon fill=\"black\" stroke=\"black\" points=\"170.081,-255.374 160.004,-252.104 165.843,-260.945 170.081,-255.374\"/>\r\n</g>\r\n<!-- E&#45;&gt;1 -->\r\n<g id=\"edge11\" class=\"edge\"><title>E&#45;&gt;1</title>\r\n<path fill=\"none\" stroke=\"black\" d=\"M297.636,-215.697C292.708,-207.073 286.669,-196.504 281.296,-187.102\"/>\r\n<polygon fill=\"black\" stroke=\"black\" points=\"284.211,-185.148 276.211,-178.202 278.133,-188.621 284.211,-185.148\"/>\r\n</g>\r\n<!-- 5 -->\r\n<g id=\"node11\" class=\"node\"><title>5</title>\r\n<ellipse fill=\"none\" stroke=\"black\" cx=\"188.524\" cy=\"-18\" rx=\"18\" ry=\"18\"/>\r\n<text text-anchor=\"middle\" x=\"188.524\" y=\"-14.3\" font-family=\"Times New Roman,serif\" font-size=\"14.00\">5</text>\r\n</g>\r\n<!-- E&#45;&gt;5 -->\r\n<g id=\"edge10\" class=\"edge\"><title>E&#45;&gt;5</title>\r\n<path fill=\"none\" stroke=\"black\" d=\"M307.777,-215.821C307.435,-197.301 305.064,-167.34 294.524,-144 274.638,-99.9663 234.496,-59.3519 209.719,-36.9941\"/>\r\n<polygon fill=\"black\" stroke=\"black\" points=\"211.768,-34.1335 201.957,-30.1332 207.132,-39.3783 211.768,-34.1335\"/>\r\n</g>\r\n<!-- F&#45;&gt;2 -->\r\n<g id=\"edge18\" class=\"edge\"><title>F&#45;&gt;2</title>\r\n<path fill=\"none\" stroke=\"black\" d=\"M156.31,-215.697C167.453,-205.433 181.587,-192.415 193.019,-181.886\"/>\r\n<polygon fill=\"black\" stroke=\"black\" points=\"195.448,-184.408 200.432,-175.058 190.705,-179.259 195.448,-184.408\"/>\r\n</g>\r\n<!-- G -->\r\n<g id=\"node13\" class=\"node\"><title>G</title>\r\n<polygon fill=\"none\" stroke=\"black\" points=\"137.524,-180 97.1378,-162 137.524,-144 177.91,-162 137.524,-180\"/>\r\n<text text-anchor=\"middle\" x=\"137.524\" y=\"-158.3\" font-family=\"Times New Roman,serif\" font-size=\"14.00\">G &gt;&#45;</text>\r\n</g>\r\n<!-- F&#45;&gt;G -->\r\n<g id=\"edge13\" class=\"edge\"><title>F&#45;&gt;G</title>\r\n<path fill=\"none\" stroke=\"black\" d=\"M137.524,-215.697C137.524,-207.983 137.524,-198.712 137.524,-190.112\"/>\r\n<polygon fill=\"black\" stroke=\"black\" points=\"141.024,-190.104 137.524,-180.104 134.024,-190.104 141.024,-190.104\"/>\r\n</g>\r\n<!-- G&#45;&gt;3 -->\r\n<g id=\"edge17\" class=\"edge\"><title>G&#45;&gt;3</title>\r\n<path fill=\"none\" stroke=\"black\" d=\"M127.986,-148.161C120.79,-138.474 110.735,-124.939 102.216,-113.471\"/>\r\n<polygon fill=\"black\" stroke=\"black\" points=\"104.847,-111.143 96.0741,-105.202 99.2278,-115.317 104.847,-111.143\"/>\r\n</g>\r\n<!-- H -->\r\n<g id=\"node14\" class=\"node\"><title>H</title>\r\n<polygon fill=\"none\" stroke=\"black\" points=\"175.524,-108 121.524,-108 121.524,-72 175.524,-72 175.524,-108\"/>\r\n<text text-anchor=\"middle\" x=\"148.524\" y=\"-86.3\" font-family=\"Times New Roman,serif\" font-size=\"14.00\">H &amp;</text>\r\n</g>\r\n<!-- G&#45;&gt;H -->\r\n<g id=\"edge14\" class=\"edge\"><title>G&#45;&gt;H</title>\r\n<path fill=\"none\" stroke=\"black\" d=\"M140.075,-144.765C141.316,-136.869 142.841,-127.164 144.252,-118.183\"/>\r\n<polygon fill=\"black\" stroke=\"black\" points=\"147.738,-118.546 145.833,-108.124 140.823,-117.459 147.738,-118.546\"/>\r\n</g>\r\n<!-- H&#45;&gt;4 -->\r\n<g id=\"edge15\" class=\"edge\"><title>H&#45;&gt;4</title>\r\n<path fill=\"none\" stroke=\"black\" d=\"M138.389,-71.6966C133.338,-63.073 127.148,-52.5044 121.64,-43.1015\"/>\r\n<polygon fill=\"black\" stroke=\"black\" points=\"124.502,-41.0624 116.428,-34.2024 118.462,-44.6002 124.502,-41.0624\"/>\r\n</g>\r\n<!-- H&#45;&gt;5 -->\r\n<g id=\"edge16\" class=\"edge\"><title>H&#45;&gt;5</title>\r\n<path fill=\"none\" stroke=\"black\" d=\"M158.411,-71.6966C163.339,-63.073 169.378,-52.5044 174.751,-43.1015\"/>\r\n<polygon fill=\"black\" stroke=\"black\" points=\"177.914,-44.6214 179.837,-34.2024 171.836,-41.1484 177.914,-44.6214\"/>\r\n</g>\r\n</g>\r\n</svg>\r\n",
      "text/plain": [
       "<graphviz.dot.Digraph at 0x2105a830790>"
      ]
     },
     "execution_count": 68,
     "metadata": {},
     "output_type": "execute_result"
    }
   ],
   "source": [
    "TOP = ANDNODE(\"TOP\")\n",
    "A = ORNODE(\"A\")\n",
    "B = ANDNODE(\"B\")\n",
    "C = ORNODE(\"C\")\n",
    "D = ORNODE(\"D\")\n",
    "E = ANDNODE(\"E\")\n",
    "F = ANDNODE(\"F\")\n",
    "G = ORNODE(\"G\")\n",
    "H = ANDNODE(\"H\")\n",
    "E1 = EVENT(\"1\")\n",
    "E2 = EVENT(\"2\")\n",
    "E3 = EVENT(\"3\")\n",
    "E4 = EVENT(\"4\")\n",
    "E5 = EVENT(\"5\")\n",
    "\n",
    "TOP.add(A)\n",
    "TOP.add(B)\n",
    "A.add(C)\n",
    "A.add(D)\n",
    "B.add(E)\n",
    "B.add(F)\n",
    "F.add(G)\n",
    "G.add(H)\n",
    "C.add(E1)\n",
    "C.add(E2)\n",
    "D.add(E3)\n",
    "D.add(E4)\n",
    "E.add(E5)\n",
    "E.add(E1)\n",
    "F.add(E2)\n",
    "G.add(E3)\n",
    "H.add(E4)\n",
    "H.add(E5)\n",
    "\n",
    "print(\"Zusammensetzung TOP: \", TOP)\n",
    "mat = [[TOP]]\n",
    "mat = TOP.topdown(mat)\n",
    "print(mat)\n",
    "g = graphviz.Digraph()\n",
    "TOP.print(g)"
   ]
  },
  {
   "cell_type": "code",
   "execution_count": null,
   "metadata": {},
   "outputs": [],
   "source": []
  }
 ],
 "metadata": {
  "kernelspec": {
   "display_name": "base",
   "language": "python",
   "name": "python3"
  },
  "language_info": {
   "codemirror_mode": {
    "name": "ipython",
    "version": 3
   },
   "file_extension": ".py",
   "mimetype": "text/x-python",
   "name": "python",
   "nbconvert_exporter": "python",
   "pygments_lexer": "ipython3",
   "version": "3.9.13"
  },
  "orig_nbformat": 4,
  "vscode": {
   "interpreter": {
    "hash": "679ca3d7e10d4fea823e60e28cb6f57bfb034a2481868839314afba603aaea83"
   }
  }
 },
 "nbformat": 4,
 "nbformat_minor": 2
}
