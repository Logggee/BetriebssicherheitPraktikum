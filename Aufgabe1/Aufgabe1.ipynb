{
 "cells": [
  {
   "cell_type": "code",
   "execution_count": 1,
   "metadata": {},
   "outputs": [
    {
     "name": "stdout",
     "output_type": "stream",
     "text": [
      "Zusammensetzung TOP:  [[1, 2], [[3, 4], 5]]\n",
      "[[[1, 2], [[3, 4], 5]]]\n"
     ]
    }
   ],
   "source": [
    "class ANDNODE:\n",
    "    def __init__(self,name):\n",
    "        self.name = name\n",
    "        self.nodes = []\n",
    "\n",
    "    def __repr__(self):\n",
    "        return str(self.nodes)\n",
    "\n",
    "    def add(self, node):\n",
    "        self.nodes.append(node)\n",
    "        return\n",
    "    \n",
    "    def topdown(self, mat):\n",
    "        temp = []\n",
    "        for i in mat:\n",
    "            temp.append(i)\n",
    "        mat = temp\n",
    "        return mat\n",
    "\n",
    "class ORNODE:\n",
    "    def __init__(self,name):\n",
    "        self.name = name\n",
    "        self.nodes = []\n",
    "\n",
    "    def __repr__(self):\n",
    "        return str(self.nodes)\n",
    "\n",
    "    def add(self, node):\n",
    "        self.nodes.append(node)\n",
    "        return\n",
    "    \n",
    "    def topdown(self, mat):\n",
    "        return mat\n",
    "    \n",
    "class EVENT:\n",
    "    def __init__(self,name):\n",
    "        self.name = name\n",
    "    \n",
    "    def __repr__(self):\n",
    "        return str(self.name)\n",
    "        \n",
    "    def topdown(self, mat):\n",
    "        return mat\n",
    "    \n",
    "TOP = ANDNODE(\"TOP\")\n",
    "A = ORNODE(\"A\")\n",
    "B = ORNODE(\"B\")\n",
    "D = ANDNODE(\"D\")\n",
    "E1 = EVENT(\"1\")\n",
    "E2 = EVENT(\"2\")\n",
    "E3 = EVENT(\"3\")\n",
    "E4 = EVENT(\"4\")\n",
    "E5 = EVENT(\"5\")\n",
    "\n",
    "TOP.add(A)\n",
    "TOP.add(B)\n",
    "A.add(E1)\n",
    "A.add(E2)\n",
    "B.add(D)\n",
    "B.add(E5)\n",
    "D.add(E3)\n",
    "D.add(E4)\n",
    "\n",
    "print(\"Zusammensetzung TOP: \", TOP)\n",
    "\n",
    "mat = TOP.topdown(TOP)"
   ]
  },
  {
   "cell_type": "code",
   "execution_count": null,
   "metadata": {},
   "outputs": [],
   "source": []
  }
 ],
 "metadata": {
  "kernelspec": {
   "display_name": "base",
   "language": "python",
   "name": "python3"
  },
  "language_info": {
   "codemirror_mode": {
    "name": "ipython",
    "version": 3
   },
   "file_extension": ".py",
   "mimetype": "text/x-python",
   "name": "python",
   "nbconvert_exporter": "python",
   "pygments_lexer": "ipython3",
   "version": "3.8.8"
  },
  "orig_nbformat": 4,
  "vscode": {
   "interpreter": {
    "hash": "679ca3d7e10d4fea823e60e28cb6f57bfb034a2481868839314afba603aaea83"
   }
  }
 },
 "nbformat": 4,
 "nbformat_minor": 2
}
